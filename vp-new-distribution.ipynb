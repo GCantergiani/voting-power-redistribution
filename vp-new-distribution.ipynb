{
 "cells": [
  {
   "cell_type": "markdown",
   "metadata": {},
   "source": [
    "# Voting power - new distribution"
   ]
  },
  {
   "cell_type": "code",
   "execution_count": 1,
   "metadata": {
    "collapsed": true
   },
   "outputs": [],
   "source": [
    "import numpy as np\n",
    "import pandas as pd\n",
    "import power_index_calculator as calculator\n",
    "\n",
    "from itertools import permutations\n",
    "from itertools import product\n",
    "from itertools import combinations_with_replacement\n",
    "from tqdm import tqdm"
   ]
  },
  {
   "cell_type": "code",
   "execution_count": 2,
   "metadata": {
    "collapsed": false
   },
   "outputs": [],
   "source": [
    "base_line = sorted(tuple([2,2,4,4,6,12,32,8,10,14,10,4,8,2,2]))"
   ]
  },
  {
   "cell_type": "code",
   "execution_count": 3,
   "metadata": {
    "collapsed": false
   },
   "outputs": [
    {
     "name": "stdout",
     "output_type": "stream",
     "text": [
      "Baseline standard deviation: 7.447594690010102\n"
     ]
    }
   ],
   "source": [
    "std_baseline = np.std(base_line)\n",
    "print('Baseline standard deviation: {}'.format(std_baseline))"
   ]
  },
  {
   "cell_type": "code",
   "execution_count": 4,
   "metadata": {
    "collapsed": false
   },
   "outputs": [
    {
     "name": "stderr",
     "output_type": "stream",
     "text": [
      "155117520it [05:56, 435571.43it/s]\n"
     ]
    }
   ],
   "source": [
    "weights_combinations = []\n",
    "for digits in tqdm(combinations_with_replacement(list(range(16)), 15)):\n",
    "    if sum(map(int, digits)) == 35:\n",
    "        weights_combinations.append(digits)"
   ]
  },
  {
   "cell_type": "code",
   "execution_count": 5,
   "metadata": {
    "collapsed": false
   },
   "outputs": [
    {
     "name": "stdout",
     "output_type": "stream",
     "text": [
      "10745 games found\n"
     ]
    }
   ],
   "source": [
    "print('{} games found'.format(len(weights_combinations)))"
   ]
  },
  {
   "cell_type": "markdown",
   "metadata": {},
   "source": [
    "### 1st constraints\n",
    "The order of the regions according to the number of seats must be maintained.\n",
    "\n",
    "All the regions that currently share the same number of seats must continue having the same number of seats."
   ]
  },
  {
   "cell_type": "code",
   "execution_count": 6,
   "metadata": {
    "collapsed": false
   },
   "outputs": [],
   "source": [
    "filter_weights = []\n",
    "\n",
    "for w in weights_combinations:\n",
    "    if ((w[0] == w[1] == w[2] == w[3]) and (w[4] == w[5] == w[6])\n",
    "        and (w[8] == w[9]) and (w[10]==w[11])):\n",
    "        filter_weights.append(w)"
   ]
  },
  {
   "cell_type": "code",
   "execution_count": 7,
   "metadata": {
    "collapsed": false
   },
   "outputs": [
    {
     "name": "stdout",
     "output_type": "stream",
     "text": [
      "Number of generate weights: 1194 \n"
     ]
    }
   ],
   "source": [
    "print('Number of generate weights: {} '.format(len(filter_weights)))"
   ]
  },
  {
   "cell_type": "markdown",
   "metadata": {},
   "source": [
    "### Working with power indices"
   ]
  },
  {
   "cell_type": "code",
   "execution_count": 8,
   "metadata": {
    "collapsed": false
   },
   "outputs": [],
   "source": [
    "import power_index_calculator as pw"
   ]
  },
  {
   "cell_type": "code",
   "execution_count": 9,
   "metadata": {
    "collapsed": false
   },
   "outputs": [],
   "source": [
    "game_2017 = [3,3,5,5,7,16,47,9,11,18,11,5,9,3,3]\n",
    "quota_2017 = 89"
   ]
  },
  {
   "cell_type": "code",
   "execution_count": 10,
   "metadata": {
    "collapsed": false
   },
   "outputs": [
    {
     "name": "stdout",
     "output_type": "stream",
     "text": [
      "Banzhaf: [0.017, 0.017, 0.028, 0.028, 0.039, 0.089, 0.396, 0.051, 0.062, 0.1, 0.062, 0.028, 0.051, 0.017, 0.017]\n",
      "Shapley: [0.016, 0.016, 0.028, 0.028, 0.039, 0.091, 0.393, 0.051, 0.062, 0.103, 0.062, 0.028, 0.051, 0.016, 0.016]\n",
      "Deegan Packel: [0.06, 0.06, 0.064, 0.064, 0.064, 0.059, 0.131, 0.065, 0.065, 0.056, 0.065, 0.064, 0.065, 0.06, 0.06]\n"
     ]
    }
   ],
   "source": [
    "banzhaf_2017 = list(pw.banzhaf(game_2017,quota_2017))\n",
    "shapley_2017 = list(pw.shapley(game_2017,quota_2017))\n",
    "deegan_packel_2017 = list(pw.deegan_packel(game_2017,quota_2017))\n",
    "\n",
    "print('Banzhaf: {}'.format(banzhaf_2017))\n",
    "print('Shapley: {}'.format(shapley_2017))\n",
    "print('Deegan Packel: {}'.format(deegan_packel_2017))"
   ]
  },
  {
   "cell_type": "code",
   "execution_count": 11,
   "metadata": {
    "collapsed": false
   },
   "outputs": [
    {
     "name": "stdout",
     "output_type": "stream",
     "text": [
      "STD Banzhaf 2017: 0.09155049608458347\n",
      "STD Shapley 2017: 0.09108945542097005\n",
      "STD Deegan Packel 2017: 0.017375077937475086\n"
     ]
    }
   ],
   "source": [
    "std_banzhaf_2017 = np.std(banzhaf_2017)\n",
    "std_shapley_2017 = np.std(shapley_2017)\n",
    "std_deegan_packel_2017 = np.std(deegan_packel_2017)\n",
    "\n",
    "print('STD Banzhaf 2017: {}'.format(std_banzhaf_2017))\n",
    "print('STD Shapley 2017: {}'.format(std_shapley_2017))\n",
    "print('STD Deegan Packel 2017: {}'.format(std_deegan_packel_2017))"
   ]
  },
  {
   "cell_type": "markdown",
   "metadata": {},
   "source": [
    "### 2st constraint\n",
    "The standard deviations for the three power indices must be smaller than the corresponding ones obtained for the Γ6 game."
   ]
  },
  {
   "cell_type": "code",
   "execution_count": 12,
   "metadata": {
    "collapsed": false
   },
   "outputs": [
    {
     "name": "stderr",
     "output_type": "stream",
     "text": [
      "100%|██████████| 1194/1194 [18:20<00:00,  1.20it/s]\n"
     ]
    }
   ],
   "source": [
    "new_games  = []\n",
    "\n",
    "for w_add in tqdm(filter_weights):\n",
    "    \n",
    "    to_add = tuple(map(int, w_add))\n",
    "    new_weights = tuple(map(sum,zip(to_add,base_line)))\n",
    "    \n",
    "    new_banzhaf_std = np.std(list(pw.banzhaf(new_weights,quota_2017)))\n",
    "    new_shapley_std = np.std(list(pw.shapley(new_weights,quota_2017)))\n",
    "    new_deegan_packel_std = np.std(list(pw.deegan_packel(new_weights,quota_2017)))\n",
    "    \n",
    "    if ((new_banzhaf_std < std_banzhaf_2017)\n",
    "        and (new_shapley_std < std_shapley_2017)\n",
    "        and (new_deegan_packel_std < std_deegan_packel_2017)):\n",
    "            \n",
    "        new_games.append(new_weights)"
   ]
  },
  {
   "cell_type": "code",
   "execution_count": 13,
   "metadata": {
    "collapsed": false
   },
   "outputs": [
    {
     "name": "stdout",
     "output_type": "stream",
     "text": [
      "1083 games found\n"
     ]
    }
   ],
   "source": [
    "print('{} games found'.format(len(new_games)))"
   ]
  },
  {
   "cell_type": "markdown",
   "metadata": {},
   "source": [
    "### 3st constraint\n",
    "The power indices for each region must be directly proportional to its weight."
   ]
  },
  {
   "cell_type": "code",
   "execution_count": 14,
   "metadata": {
    "collapsed": false
   },
   "outputs": [
    {
     "name": "stderr",
     "output_type": "stream",
     "text": [
      "100%|██████████| 1083/1083 [35:10<00:00,  1.82s/it]\n"
     ]
    }
   ],
   "source": [
    "new_games_proportional  = []\n",
    "\n",
    "for new_game in tqdm(new_games):\n",
    "    \n",
    "    raw_banzhaf = list(pw.banzhaf(new_game,quota_2017))\n",
    "    raw_shapley = list(pw.shapley(new_game,quota_2017))\n",
    "    raw_deegan_packel = list(pw.deegan_packel(new_game,quota_2017))\n",
    "    \n",
    "    new_banzhaf_std = np.std(list(pw.banzhaf(new_game,quota_2017)))\n",
    "    new_shapley_std = np.std(list(pw.shapley(new_game,quota_2017)))\n",
    "    new_deegan_packel_std = np.std(list(pw.deegan_packel(new_game,quota_2017)))\n",
    "    \n",
    "    if ((sorted(raw_banzhaf) == raw_banzhaf) \n",
    "        and (sorted(raw_shapley) == raw_shapley)\n",
    "        and (sorted(raw_deegan_packel) == raw_deegan_packel)):\n",
    "        \n",
    "        new_games_proportional.append({'game':new_game,\n",
    "                                       'std_bz':new_banzhaf_std, \n",
    "                                       'std_ss':new_shapley_std,\n",
    "                                       'std_dp':new_deegan_packel_std})"
   ]
  },
  {
   "cell_type": "code",
   "execution_count": 15,
   "metadata": {
    "collapsed": false
   },
   "outputs": [
    {
     "name": "stdout",
     "output_type": "stream",
     "text": [
      "48 games found\n"
     ]
    }
   ],
   "source": [
    "print('{} games found'.format(len(new_games_proportional)))"
   ]
  },
  {
   "cell_type": "code",
   "execution_count": 17,
   "metadata": {
    "collapsed": false
   },
   "outputs": [],
   "source": [
    "df = pd.DataFrame(new_games_proportional)"
   ]
  },
  {
   "cell_type": "code",
   "execution_count": 18,
   "metadata": {
    "collapsed": false
   },
   "outputs": [
    {
     "data": {
      "text/html": [
       "<div>\n",
       "<table border=\"1\" class=\"dataframe\">\n",
       "  <thead>\n",
       "    <tr style=\"text-align: right;\">\n",
       "      <th></th>\n",
       "      <th>game</th>\n",
       "      <th>std_bz</th>\n",
       "      <th>std_dp</th>\n",
       "      <th>std_ss</th>\n",
       "    </tr>\n",
       "  </thead>\n",
       "  <tbody>\n",
       "    <tr>\n",
       "      <th>0</th>\n",
       "      <td>(2, 2, 2, 2, 4, 4, 4, 6, 9, 9, 14, 14, 19, 23,...</td>\n",
       "      <td>0.076267</td>\n",
       "      <td>0.012593</td>\n",
       "      <td>0.077934</td>\n",
       "    </tr>\n",
       "    <tr>\n",
       "      <th>1</th>\n",
       "      <td>(2, 2, 2, 2, 4, 4, 4, 6, 9, 9, 16, 16, 18, 21,...</td>\n",
       "      <td>0.074456</td>\n",
       "      <td>0.012110</td>\n",
       "      <td>0.075733</td>\n",
       "    </tr>\n",
       "    <tr>\n",
       "      <th>2</th>\n",
       "      <td>(2, 2, 2, 2, 4, 4, 4, 6, 10, 10, 13, 13, 19, 2...</td>\n",
       "      <td>0.080769</td>\n",
       "      <td>0.012960</td>\n",
       "      <td>0.081795</td>\n",
       "    </tr>\n",
       "    <tr>\n",
       "      <th>3</th>\n",
       "      <td>(2, 2, 2, 2, 4, 4, 4, 6, 10, 10, 14, 14, 17, 2...</td>\n",
       "      <td>0.075496</td>\n",
       "      <td>0.012273</td>\n",
       "      <td>0.077540</td>\n",
       "    </tr>\n",
       "    <tr>\n",
       "      <th>4</th>\n",
       "      <td>(2, 2, 2, 2, 4, 4, 4, 6, 11, 11, 13, 13, 18, 2...</td>\n",
       "      <td>0.075456</td>\n",
       "      <td>0.012043</td>\n",
       "      <td>0.077958</td>\n",
       "    </tr>\n",
       "    <tr>\n",
       "      <th>5</th>\n",
       "      <td>(2, 2, 2, 2, 4, 4, 4, 7, 9, 9, 14, 14, 19, 22,...</td>\n",
       "      <td>0.076266</td>\n",
       "      <td>0.012228</td>\n",
       "      <td>0.077697</td>\n",
       "    </tr>\n",
       "    <tr>\n",
       "      <th>6</th>\n",
       "      <td>(2, 2, 2, 2, 4, 4, 4, 7, 9, 9, 15, 15, 18, 21,...</td>\n",
       "      <td>0.076426</td>\n",
       "      <td>0.012629</td>\n",
       "      <td>0.077589</td>\n",
       "    </tr>\n",
       "    <tr>\n",
       "      <th>7</th>\n",
       "      <td>(2, 2, 2, 2, 4, 4, 4, 7, 10, 10, 13, 13, 18, 2...</td>\n",
       "      <td>0.075778</td>\n",
       "      <td>0.012062</td>\n",
       "      <td>0.077469</td>\n",
       "    </tr>\n",
       "    <tr>\n",
       "      <th>8</th>\n",
       "      <td>(2, 2, 2, 2, 4, 4, 4, 7, 10, 10, 16, 16, 18, 2...</td>\n",
       "      <td>0.068901</td>\n",
       "      <td>0.011442</td>\n",
       "      <td>0.070676</td>\n",
       "    </tr>\n",
       "    <tr>\n",
       "      <th>9</th>\n",
       "      <td>(2, 2, 2, 2, 4, 4, 4, 7, 11, 11, 13, 13, 16, 2...</td>\n",
       "      <td>0.080378</td>\n",
       "      <td>0.014263</td>\n",
       "      <td>0.081674</td>\n",
       "    </tr>\n",
       "    <tr>\n",
       "      <th>10</th>\n",
       "      <td>(2, 2, 2, 2, 4, 4, 4, 8, 10, 10, 15, 15, 17, 2...</td>\n",
       "      <td>0.071701</td>\n",
       "      <td>0.011391</td>\n",
       "      <td>0.072843</td>\n",
       "    </tr>\n",
       "    <tr>\n",
       "      <th>11</th>\n",
       "      <td>(2, 2, 2, 2, 4, 4, 4, 8, 10, 10, 15, 15, 18, 2...</td>\n",
       "      <td>0.071069</td>\n",
       "      <td>0.011876</td>\n",
       "      <td>0.073095</td>\n",
       "    </tr>\n",
       "    <tr>\n",
       "      <th>12</th>\n",
       "      <td>(2, 2, 2, 2, 4, 4, 4, 8, 11, 11, 13, 13, 19, 2...</td>\n",
       "      <td>0.070779</td>\n",
       "      <td>0.012300</td>\n",
       "      <td>0.072535</td>\n",
       "    </tr>\n",
       "    <tr>\n",
       "      <th>13</th>\n",
       "      <td>(2, 2, 2, 2, 4, 4, 4, 8, 11, 11, 14, 14, 16, 2...</td>\n",
       "      <td>0.073267</td>\n",
       "      <td>0.012463</td>\n",
       "      <td>0.075420</td>\n",
       "    </tr>\n",
       "    <tr>\n",
       "      <th>14</th>\n",
       "      <td>(2, 2, 2, 2, 4, 4, 4, 9, 12, 12, 14, 14, 16, 2...</td>\n",
       "      <td>0.068196</td>\n",
       "      <td>0.012632</td>\n",
       "      <td>0.070305</td>\n",
       "    </tr>\n",
       "    <tr>\n",
       "      <th>15</th>\n",
       "      <td>(2, 2, 2, 2, 4, 4, 4, 9, 12, 12, 14, 14, 17, 1...</td>\n",
       "      <td>0.068865</td>\n",
       "      <td>0.012621</td>\n",
       "      <td>0.070748</td>\n",
       "    </tr>\n",
       "    <tr>\n",
       "      <th>16</th>\n",
       "      <td>(2, 2, 2, 2, 4, 4, 4, 10, 12, 12, 14, 14, 16, ...</td>\n",
       "      <td>0.068196</td>\n",
       "      <td>0.012632</td>\n",
       "      <td>0.070305</td>\n",
       "    </tr>\n",
       "    <tr>\n",
       "      <th>17</th>\n",
       "      <td>(2, 2, 2, 2, 5, 5, 5, 7, 9, 9, 11, 11, 20, 22,...</td>\n",
       "      <td>0.079659</td>\n",
       "      <td>0.013119</td>\n",
       "      <td>0.081648</td>\n",
       "    </tr>\n",
       "    <tr>\n",
       "      <th>18</th>\n",
       "      <td>(2, 2, 2, 2, 5, 5, 5, 7, 9, 9, 12, 12, 19, 23,...</td>\n",
       "      <td>0.075312</td>\n",
       "      <td>0.013136</td>\n",
       "      <td>0.077420</td>\n",
       "    </tr>\n",
       "    <tr>\n",
       "      <th>19</th>\n",
       "      <td>(2, 2, 2, 2, 5, 5, 5, 7, 12, 12, 14, 14, 16, 1...</td>\n",
       "      <td>0.070028</td>\n",
       "      <td>0.014004</td>\n",
       "      <td>0.072244</td>\n",
       "    </tr>\n",
       "    <tr>\n",
       "      <th>20</th>\n",
       "      <td>(2, 2, 2, 2, 5, 5, 5, 8, 11, 11, 14, 14, 16, 1...</td>\n",
       "      <td>0.071784</td>\n",
       "      <td>0.013116</td>\n",
       "      <td>0.073917</td>\n",
       "    </tr>\n",
       "    <tr>\n",
       "      <th>21</th>\n",
       "      <td>(2, 2, 2, 2, 5, 5, 5, 8, 12, 12, 14, 14, 16, 1...</td>\n",
       "      <td>0.065871</td>\n",
       "      <td>0.011629</td>\n",
       "      <td>0.068105</td>\n",
       "    </tr>\n",
       "    <tr>\n",
       "      <th>22</th>\n",
       "      <td>(2, 2, 2, 2, 5, 5, 5, 9, 12, 12, 14, 14, 16, 1...</td>\n",
       "      <td>0.065338</td>\n",
       "      <td>0.012648</td>\n",
       "      <td>0.067867</td>\n",
       "    </tr>\n",
       "    <tr>\n",
       "      <th>23</th>\n",
       "      <td>(2, 2, 2, 2, 6, 6, 6, 8, 10, 10, 13, 13, 16, 2...</td>\n",
       "      <td>0.069749</td>\n",
       "      <td>0.013626</td>\n",
       "      <td>0.071696</td>\n",
       "    </tr>\n",
       "    <tr>\n",
       "      <th>24</th>\n",
       "      <td>(2, 2, 2, 2, 6, 6, 6, 8, 10, 10, 13, 13, 17, 2...</td>\n",
       "      <td>0.067697</td>\n",
       "      <td>0.013318</td>\n",
       "      <td>0.069729</td>\n",
       "    </tr>\n",
       "    <tr>\n",
       "      <th>25</th>\n",
       "      <td>(2, 2, 2, 2, 6, 6, 6, 8, 10, 10, 14, 14, 16, 1...</td>\n",
       "      <td>0.071360</td>\n",
       "      <td>0.013732</td>\n",
       "      <td>0.072744</td>\n",
       "    </tr>\n",
       "    <tr>\n",
       "      <th>26</th>\n",
       "      <td>(2, 2, 2, 2, 6, 6, 6, 8, 10, 10, 14, 14, 16, 1...</td>\n",
       "      <td>0.067212</td>\n",
       "      <td>0.013143</td>\n",
       "      <td>0.068996</td>\n",
       "    </tr>\n",
       "    <tr>\n",
       "      <th>27</th>\n",
       "      <td>(2, 2, 2, 2, 6, 6, 6, 8, 10, 10, 14, 14, 17, 1...</td>\n",
       "      <td>0.064988</td>\n",
       "      <td>0.012721</td>\n",
       "      <td>0.066978</td>\n",
       "    </tr>\n",
       "    <tr>\n",
       "      <th>28</th>\n",
       "      <td>(2, 2, 2, 2, 6, 6, 6, 8, 11, 11, 13, 13, 15, 2...</td>\n",
       "      <td>0.067639</td>\n",
       "      <td>0.012932</td>\n",
       "      <td>0.068744</td>\n",
       "    </tr>\n",
       "    <tr>\n",
       "      <th>29</th>\n",
       "      <td>(2, 2, 2, 2, 6, 6, 6, 9, 11, 11, 14, 14, 16, 1...</td>\n",
       "      <td>0.062963</td>\n",
       "      <td>0.012709</td>\n",
       "      <td>0.064945</td>\n",
       "    </tr>\n",
       "    <tr>\n",
       "      <th>30</th>\n",
       "      <td>(3, 3, 3, 3, 5, 5, 5, 7, 9, 9, 15, 15, 17, 19,...</td>\n",
       "      <td>0.065157</td>\n",
       "      <td>0.011440</td>\n",
       "      <td>0.066925</td>\n",
       "    </tr>\n",
       "    <tr>\n",
       "      <th>31</th>\n",
       "      <td>(3, 3, 3, 3, 5, 5, 5, 7, 10, 10, 12, 12, 17, 2...</td>\n",
       "      <td>0.071998</td>\n",
       "      <td>0.011850</td>\n",
       "      <td>0.074047</td>\n",
       "    </tr>\n",
       "    <tr>\n",
       "      <th>32</th>\n",
       "      <td>(3, 3, 3, 3, 5, 5, 5, 7, 10, 10, 14, 14, 16, 1...</td>\n",
       "      <td>0.069339</td>\n",
       "      <td>0.012503</td>\n",
       "      <td>0.070891</td>\n",
       "    </tr>\n",
       "    <tr>\n",
       "      <th>33</th>\n",
       "      <td>(3, 3, 3, 3, 5, 5, 5, 8, 10, 10, 12, 12, 15, 1...</td>\n",
       "      <td>0.077040</td>\n",
       "      <td>0.014486</td>\n",
       "      <td>0.078306</td>\n",
       "    </tr>\n",
       "    <tr>\n",
       "      <th>34</th>\n",
       "      <td>(3, 3, 3, 3, 5, 5, 5, 8, 10, 10, 12, 12, 18, 2...</td>\n",
       "      <td>0.067172</td>\n",
       "      <td>0.011768</td>\n",
       "      <td>0.068845</td>\n",
       "    </tr>\n",
       "    <tr>\n",
       "      <th>35</th>\n",
       "      <td>(3, 3, 3, 3, 5, 5, 5, 8, 10, 10, 13, 13, 16, 1...</td>\n",
       "      <td>0.071642</td>\n",
       "      <td>0.011943</td>\n",
       "      <td>0.072574</td>\n",
       "    </tr>\n",
       "    <tr>\n",
       "      <th>36</th>\n",
       "      <td>(3, 3, 3, 3, 5, 5, 5, 8, 10, 10, 13, 13, 17, 1...</td>\n",
       "      <td>0.067153</td>\n",
       "      <td>0.012121</td>\n",
       "      <td>0.068930</td>\n",
       "    </tr>\n",
       "    <tr>\n",
       "      <th>37</th>\n",
       "      <td>(3, 3, 3, 3, 5, 5, 5, 8, 10, 10, 14, 14, 16, 1...</td>\n",
       "      <td>0.067047</td>\n",
       "      <td>0.012179</td>\n",
       "      <td>0.068630</td>\n",
       "    </tr>\n",
       "    <tr>\n",
       "      <th>38</th>\n",
       "      <td>(3, 3, 3, 3, 5, 5, 5, 8, 11, 11, 13, 13, 16, 1...</td>\n",
       "      <td>0.066777</td>\n",
       "      <td>0.012648</td>\n",
       "      <td>0.069066</td>\n",
       "    </tr>\n",
       "    <tr>\n",
       "      <th>39</th>\n",
       "      <td>(3, 3, 3, 3, 5, 5, 5, 8, 11, 11, 14, 14, 16, 1...</td>\n",
       "      <td>0.061967</td>\n",
       "      <td>0.010505</td>\n",
       "      <td>0.063911</td>\n",
       "    </tr>\n",
       "    <tr>\n",
       "      <th>40</th>\n",
       "      <td>(3, 3, 3, 3, 5, 5, 5, 9, 11, 11, 13, 13, 15, 1...</td>\n",
       "      <td>0.066457</td>\n",
       "      <td>0.012109</td>\n",
       "      <td>0.068512</td>\n",
       "    </tr>\n",
       "    <tr>\n",
       "      <th>41</th>\n",
       "      <td>(3, 3, 3, 3, 6, 6, 6, 8, 10, 10, 12, 12, 15, 2...</td>\n",
       "      <td>0.066302</td>\n",
       "      <td>0.012125</td>\n",
       "      <td>0.068205</td>\n",
       "    </tr>\n",
       "    <tr>\n",
       "      <th>42</th>\n",
       "      <td>(3, 3, 3, 3, 6, 6, 6, 8, 10, 10, 12, 12, 17, 1...</td>\n",
       "      <td>0.064183</td>\n",
       "      <td>0.011740</td>\n",
       "      <td>0.065598</td>\n",
       "    </tr>\n",
       "    <tr>\n",
       "      <th>43</th>\n",
       "      <td>(3, 3, 3, 3, 6, 6, 6, 8, 10, 10, 13, 13, 15, 1...</td>\n",
       "      <td>0.068514</td>\n",
       "      <td>0.012759</td>\n",
       "      <td>0.070054</td>\n",
       "    </tr>\n",
       "    <tr>\n",
       "      <th>44</th>\n",
       "      <td>(3, 3, 3, 3, 6, 6, 6, 8, 10, 10, 13, 13, 15, 1...</td>\n",
       "      <td>0.063762</td>\n",
       "      <td>0.011498</td>\n",
       "      <td>0.065159</td>\n",
       "    </tr>\n",
       "    <tr>\n",
       "      <th>45</th>\n",
       "      <td>(3, 3, 3, 3, 6, 6, 6, 8, 11, 11, 13, 13, 15, 1...</td>\n",
       "      <td>0.063514</td>\n",
       "      <td>0.012130</td>\n",
       "      <td>0.065508</td>\n",
       "    </tr>\n",
       "    <tr>\n",
       "      <th>46</th>\n",
       "      <td>(3, 3, 3, 3, 6, 6, 6, 8, 11, 11, 13, 13, 15, 1...</td>\n",
       "      <td>0.061310</td>\n",
       "      <td>0.011451</td>\n",
       "      <td>0.063230</td>\n",
       "    </tr>\n",
       "    <tr>\n",
       "      <th>47</th>\n",
       "      <td>(4, 4, 4, 4, 6, 6, 6, 8, 10, 10, 12, 12, 15, 1...</td>\n",
       "      <td>0.060267</td>\n",
       "      <td>0.011546</td>\n",
       "      <td>0.062103</td>\n",
       "    </tr>\n",
       "  </tbody>\n",
       "</table>\n",
       "</div>"
      ],
      "text/plain": [
       "                                                 game    std_bz    std_dp  \\\n",
       "0   (2, 2, 2, 2, 4, 4, 4, 6, 9, 9, 14, 14, 19, 23,...  0.076267  0.012593   \n",
       "1   (2, 2, 2, 2, 4, 4, 4, 6, 9, 9, 16, 16, 18, 21,...  0.074456  0.012110   \n",
       "2   (2, 2, 2, 2, 4, 4, 4, 6, 10, 10, 13, 13, 19, 2...  0.080769  0.012960   \n",
       "3   (2, 2, 2, 2, 4, 4, 4, 6, 10, 10, 14, 14, 17, 2...  0.075496  0.012273   \n",
       "4   (2, 2, 2, 2, 4, 4, 4, 6, 11, 11, 13, 13, 18, 2...  0.075456  0.012043   \n",
       "5   (2, 2, 2, 2, 4, 4, 4, 7, 9, 9, 14, 14, 19, 22,...  0.076266  0.012228   \n",
       "6   (2, 2, 2, 2, 4, 4, 4, 7, 9, 9, 15, 15, 18, 21,...  0.076426  0.012629   \n",
       "7   (2, 2, 2, 2, 4, 4, 4, 7, 10, 10, 13, 13, 18, 2...  0.075778  0.012062   \n",
       "8   (2, 2, 2, 2, 4, 4, 4, 7, 10, 10, 16, 16, 18, 2...  0.068901  0.011442   \n",
       "9   (2, 2, 2, 2, 4, 4, 4, 7, 11, 11, 13, 13, 16, 2...  0.080378  0.014263   \n",
       "10  (2, 2, 2, 2, 4, 4, 4, 8, 10, 10, 15, 15, 17, 2...  0.071701  0.011391   \n",
       "11  (2, 2, 2, 2, 4, 4, 4, 8, 10, 10, 15, 15, 18, 2...  0.071069  0.011876   \n",
       "12  (2, 2, 2, 2, 4, 4, 4, 8, 11, 11, 13, 13, 19, 2...  0.070779  0.012300   \n",
       "13  (2, 2, 2, 2, 4, 4, 4, 8, 11, 11, 14, 14, 16, 2...  0.073267  0.012463   \n",
       "14  (2, 2, 2, 2, 4, 4, 4, 9, 12, 12, 14, 14, 16, 2...  0.068196  0.012632   \n",
       "15  (2, 2, 2, 2, 4, 4, 4, 9, 12, 12, 14, 14, 17, 1...  0.068865  0.012621   \n",
       "16  (2, 2, 2, 2, 4, 4, 4, 10, 12, 12, 14, 14, 16, ...  0.068196  0.012632   \n",
       "17  (2, 2, 2, 2, 5, 5, 5, 7, 9, 9, 11, 11, 20, 22,...  0.079659  0.013119   \n",
       "18  (2, 2, 2, 2, 5, 5, 5, 7, 9, 9, 12, 12, 19, 23,...  0.075312  0.013136   \n",
       "19  (2, 2, 2, 2, 5, 5, 5, 7, 12, 12, 14, 14, 16, 1...  0.070028  0.014004   \n",
       "20  (2, 2, 2, 2, 5, 5, 5, 8, 11, 11, 14, 14, 16, 1...  0.071784  0.013116   \n",
       "21  (2, 2, 2, 2, 5, 5, 5, 8, 12, 12, 14, 14, 16, 1...  0.065871  0.011629   \n",
       "22  (2, 2, 2, 2, 5, 5, 5, 9, 12, 12, 14, 14, 16, 1...  0.065338  0.012648   \n",
       "23  (2, 2, 2, 2, 6, 6, 6, 8, 10, 10, 13, 13, 16, 2...  0.069749  0.013626   \n",
       "24  (2, 2, 2, 2, 6, 6, 6, 8, 10, 10, 13, 13, 17, 2...  0.067697  0.013318   \n",
       "25  (2, 2, 2, 2, 6, 6, 6, 8, 10, 10, 14, 14, 16, 1...  0.071360  0.013732   \n",
       "26  (2, 2, 2, 2, 6, 6, 6, 8, 10, 10, 14, 14, 16, 1...  0.067212  0.013143   \n",
       "27  (2, 2, 2, 2, 6, 6, 6, 8, 10, 10, 14, 14, 17, 1...  0.064988  0.012721   \n",
       "28  (2, 2, 2, 2, 6, 6, 6, 8, 11, 11, 13, 13, 15, 2...  0.067639  0.012932   \n",
       "29  (2, 2, 2, 2, 6, 6, 6, 9, 11, 11, 14, 14, 16, 1...  0.062963  0.012709   \n",
       "30  (3, 3, 3, 3, 5, 5, 5, 7, 9, 9, 15, 15, 17, 19,...  0.065157  0.011440   \n",
       "31  (3, 3, 3, 3, 5, 5, 5, 7, 10, 10, 12, 12, 17, 2...  0.071998  0.011850   \n",
       "32  (3, 3, 3, 3, 5, 5, 5, 7, 10, 10, 14, 14, 16, 1...  0.069339  0.012503   \n",
       "33  (3, 3, 3, 3, 5, 5, 5, 8, 10, 10, 12, 12, 15, 1...  0.077040  0.014486   \n",
       "34  (3, 3, 3, 3, 5, 5, 5, 8, 10, 10, 12, 12, 18, 2...  0.067172  0.011768   \n",
       "35  (3, 3, 3, 3, 5, 5, 5, 8, 10, 10, 13, 13, 16, 1...  0.071642  0.011943   \n",
       "36  (3, 3, 3, 3, 5, 5, 5, 8, 10, 10, 13, 13, 17, 1...  0.067153  0.012121   \n",
       "37  (3, 3, 3, 3, 5, 5, 5, 8, 10, 10, 14, 14, 16, 1...  0.067047  0.012179   \n",
       "38  (3, 3, 3, 3, 5, 5, 5, 8, 11, 11, 13, 13, 16, 1...  0.066777  0.012648   \n",
       "39  (3, 3, 3, 3, 5, 5, 5, 8, 11, 11, 14, 14, 16, 1...  0.061967  0.010505   \n",
       "40  (3, 3, 3, 3, 5, 5, 5, 9, 11, 11, 13, 13, 15, 1...  0.066457  0.012109   \n",
       "41  (3, 3, 3, 3, 6, 6, 6, 8, 10, 10, 12, 12, 15, 2...  0.066302  0.012125   \n",
       "42  (3, 3, 3, 3, 6, 6, 6, 8, 10, 10, 12, 12, 17, 1...  0.064183  0.011740   \n",
       "43  (3, 3, 3, 3, 6, 6, 6, 8, 10, 10, 13, 13, 15, 1...  0.068514  0.012759   \n",
       "44  (3, 3, 3, 3, 6, 6, 6, 8, 10, 10, 13, 13, 15, 1...  0.063762  0.011498   \n",
       "45  (3, 3, 3, 3, 6, 6, 6, 8, 11, 11, 13, 13, 15, 1...  0.063514  0.012130   \n",
       "46  (3, 3, 3, 3, 6, 6, 6, 8, 11, 11, 13, 13, 15, 1...  0.061310  0.011451   \n",
       "47  (4, 4, 4, 4, 6, 6, 6, 8, 10, 10, 12, 12, 15, 1...  0.060267  0.011546   \n",
       "\n",
       "      std_ss  \n",
       "0   0.077934  \n",
       "1   0.075733  \n",
       "2   0.081795  \n",
       "3   0.077540  \n",
       "4   0.077958  \n",
       "5   0.077697  \n",
       "6   0.077589  \n",
       "7   0.077469  \n",
       "8   0.070676  \n",
       "9   0.081674  \n",
       "10  0.072843  \n",
       "11  0.073095  \n",
       "12  0.072535  \n",
       "13  0.075420  \n",
       "14  0.070305  \n",
       "15  0.070748  \n",
       "16  0.070305  \n",
       "17  0.081648  \n",
       "18  0.077420  \n",
       "19  0.072244  \n",
       "20  0.073917  \n",
       "21  0.068105  \n",
       "22  0.067867  \n",
       "23  0.071696  \n",
       "24  0.069729  \n",
       "25  0.072744  \n",
       "26  0.068996  \n",
       "27  0.066978  \n",
       "28  0.068744  \n",
       "29  0.064945  \n",
       "30  0.066925  \n",
       "31  0.074047  \n",
       "32  0.070891  \n",
       "33  0.078306  \n",
       "34  0.068845  \n",
       "35  0.072574  \n",
       "36  0.068930  \n",
       "37  0.068630  \n",
       "38  0.069066  \n",
       "39  0.063911  \n",
       "40  0.068512  \n",
       "41  0.068205  \n",
       "42  0.065598  \n",
       "43  0.070054  \n",
       "44  0.065159  \n",
       "45  0.065508  \n",
       "46  0.063230  \n",
       "47  0.062103  "
      ]
     },
     "execution_count": 18,
     "metadata": {},
     "output_type": "execute_result"
    }
   ],
   "source": [
    "df"
   ]
  }
 ],
 "metadata": {
  "kernelspec": {
   "display_name": "Python 3",
   "language": "python",
   "name": "python3"
  },
  "language_info": {
   "codemirror_mode": {
    "name": "ipython",
    "version": 3
   },
   "file_extension": ".py",
   "mimetype": "text/x-python",
   "name": "python",
   "nbconvert_exporter": "python",
   "pygments_lexer": "ipython3",
   "version": "3.4.3"
  }
 },
 "nbformat": 4,
 "nbformat_minor": 1
}
