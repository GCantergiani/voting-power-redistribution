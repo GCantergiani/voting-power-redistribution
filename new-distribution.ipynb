{
 "cells": [
  {
   "cell_type": "code",
   "execution_count": 1,
   "metadata": {
    "collapsed": true
   },
   "outputs": [],
   "source": [
    "import numpy as np\n",
    "import power_index_calculator as calculator\n",
    "\n",
    "from itertools import permutations\n",
    "from itertools import product\n",
    "from itertools import combinations_with_replacement\n",
    "from tqdm import tqdm"
   ]
  },
  {
   "cell_type": "code",
   "execution_count": 2,
   "metadata": {
    "collapsed": false
   },
   "outputs": [],
   "source": [
    "base_line = sorted(tuple([2,2,4,4,6,12,32,8,10,14,10,4,8,2,2]))"
   ]
  },
  {
   "cell_type": "code",
   "execution_count": 3,
   "metadata": {
    "collapsed": false
   },
   "outputs": [
    {
     "name": "stdout",
     "output_type": "stream",
     "text": [
      "Baseline standard deviation: 7.447594690010102\n"
     ]
    }
   ],
   "source": [
    "std_baseline = np.std(base_line)\n",
    "print('Baseline standard deviation: {}'.format(std_baseline))"
   ]
  },
  {
   "cell_type": "code",
   "execution_count": 4,
   "metadata": {
    "collapsed": false
   },
   "outputs": [
    {
     "name": "stderr",
     "output_type": "stream",
     "text": [
      "155117520it [06:11, 417892.31it/s]\n"
     ]
    }
   ],
   "source": [
    "weights_combinations = []\n",
    "for digits in tqdm(combinations_with_replacement(list(range(16)), 15)):\n",
    "    if sum(map(int, digits)) == 35:\n",
    "        weights_combinations.append(digits)"
   ]
  },
  {
   "cell_type": "code",
   "execution_count": 16,
   "metadata": {
    "collapsed": false
   },
   "outputs": [
    {
     "name": "stdout",
     "output_type": "stream",
     "text": [
      "10745 games found\n"
     ]
    }
   ],
   "source": [
    "print('{} games found'.format(len(weights_combinations)))"
   ]
  },
  {
   "cell_type": "markdown",
   "metadata": {},
   "source": [
    "### 1st constraints\n",
    "The order of the regions according to the number of seats must be maintained.\n",
    "\n",
    "All the regions that currently share the same number of seats must continue having the same number of seats."
   ]
  },
  {
   "cell_type": "code",
   "execution_count": 6,
   "metadata": {
    "collapsed": false
   },
   "outputs": [],
   "source": [
    "filter_weights = []\n",
    "\n",
    "for w in weights_combinations:\n",
    "    if ((w[0] == w[1] == w[2] == w[3]) and (w[4] == w[5] == w[6])\n",
    "        and (w[8] == w[9]) and (w[10]==w[11])):\n",
    "        filter_weights.append(w)"
   ]
  },
  {
   "cell_type": "code",
   "execution_count": 7,
   "metadata": {
    "collapsed": false
   },
   "outputs": [
    {
     "name": "stdout",
     "output_type": "stream",
     "text": [
      "Number of generate weights: 1194 \n"
     ]
    }
   ],
   "source": [
    "print('Number of generate weights: {} '.format(len(filter_weights)))"
   ]
  },
  {
   "cell_type": "markdown",
   "metadata": {},
   "source": [
    "### Working with power indices"
   ]
  },
  {
   "cell_type": "code",
   "execution_count": 8,
   "metadata": {
    "collapsed": false
   },
   "outputs": [],
   "source": [
    "import power_index_calculator as pw"
   ]
  },
  {
   "cell_type": "code",
   "execution_count": 9,
   "metadata": {
    "collapsed": false
   },
   "outputs": [],
   "source": [
    "game_2017 = [3,3,5,5,7,16,47,9,11,18,11,5,9,3,3]\n",
    "quota_2017 = 89"
   ]
  },
  {
   "cell_type": "code",
   "execution_count": 10,
   "metadata": {
    "collapsed": false
   },
   "outputs": [
    {
     "name": "stdout",
     "output_type": "stream",
     "text": [
      "Banzhaf: [0.017, 0.017, 0.028, 0.028, 0.039, 0.089, 0.396, 0.051, 0.062, 0.1, 0.062, 0.028, 0.051, 0.017, 0.017]\n",
      "Shapley: [0.016, 0.016, 0.028, 0.028, 0.039, 0.091, 0.393, 0.051, 0.062, 0.103, 0.062, 0.028, 0.051, 0.016, 0.016]\n",
      "Deegan Packel: [0.06, 0.06, 0.064, 0.064, 0.064, 0.059, 0.131, 0.065, 0.065, 0.056, 0.065, 0.064, 0.065, 0.06, 0.06]\n"
     ]
    }
   ],
   "source": [
    "banzhaf_2017 = list(pw.banzhaf(game_2017,quota_2017))\n",
    "shapley_2017 = list(pw.shapley(game_2017,quota_2017))\n",
    "deegan_packel_2017 = list(pw.deegan_packel(game_2017,quota_2017))\n",
    "\n",
    "print('Banzhaf: {}'.format(banzhaf_2017))\n",
    "print('Shapley: {}'.format(shapley_2017))\n",
    "print('Deegan Packel: {}'.format(deegan_packel_2017))"
   ]
  },
  {
   "cell_type": "code",
   "execution_count": 11,
   "metadata": {
    "collapsed": false
   },
   "outputs": [
    {
     "name": "stdout",
     "output_type": "stream",
     "text": [
      "STD Banzhaf 2017: 0.09155049608458347\n",
      "STD Shapley 2017: 0.09108945542097005\n",
      "STD Deegan Packel 2017: 0.017375077937475086\n"
     ]
    }
   ],
   "source": [
    "std_banzhaf_2017 = np.std(banzhaf_2017)\n",
    "std_shapley_2017 = np.std(shapley_2017)\n",
    "std_deegan_packel_2017 = np.std(deegan_packel_2017)\n",
    "\n",
    "print('STD Banzhaf 2017: {}'.format(std_banzhaf_2017))\n",
    "print('STD Shapley 2017: {}'.format(std_shapley_2017))\n",
    "print('STD Deegan Packel 2017: {}'.format(std_deegan_packel_2017))"
   ]
  },
  {
   "cell_type": "markdown",
   "metadata": {},
   "source": [
    "### 2st constraint\n",
    "The standard deviations for the three power indices must be smaller than the corresponding ones obtained for the Γ6 game."
   ]
  },
  {
   "cell_type": "code",
   "execution_count": 12,
   "metadata": {
    "collapsed": false
   },
   "outputs": [
    {
     "name": "stderr",
     "output_type": "stream",
     "text": [
      "100%|██████████| 1194/1194 [17:53<00:00,  1.22it/s]\n"
     ]
    }
   ],
   "source": [
    "new_games  = []\n",
    "\n",
    "for w_add in tqdm(filter_weights):\n",
    "    \n",
    "    to_add = tuple(map(int, w_add))\n",
    "    new_weights = tuple(map(sum,zip(to_add,base_line)))\n",
    "    \n",
    "    new_banzhaf_std = np.std(list(pw.banzhaf(new_weights,quota_2017)))\n",
    "    new_shapley_std = np.std(list(pw.shapley(new_weights,quota_2017)))\n",
    "    new_deegan_packel_std = np.std(list(pw.deegan_packel(new_weights,quota_2017)))\n",
    "    \n",
    "    if ((new_banzhaf_std < std_banzhaf_2017)\n",
    "        and (new_shapley_std < std_shapley_2017)\n",
    "        and (new_deegan_packel_std < std_deegan_packel_2017)):\n",
    "            \n",
    "        new_games.append(new_weights)"
   ]
  },
  {
   "cell_type": "code",
   "execution_count": 13,
   "metadata": {
    "collapsed": false
   },
   "outputs": [
    {
     "name": "stdout",
     "output_type": "stream",
     "text": [
      "1083 games found\n"
     ]
    }
   ],
   "source": [
    "print('{} games found'.format(len(new_games)))"
   ]
  },
  {
   "cell_type": "markdown",
   "metadata": {},
   "source": [
    "### 3st constraint\n",
    "The power indices for each region must be directly proportional to its weight."
   ]
  },
  {
   "cell_type": "code",
   "execution_count": 90,
   "metadata": {
    "collapsed": false
   },
   "outputs": [
    {
     "name": "stderr",
     "output_type": "stream",
     "text": [
      "\n",
      "  0%|          | 0/1083 [00:00<?, ?it/s]\u001b[A\n",
      "  0%|          | 1/1083 [00:00<14:46,  1.22it/s]\u001b[A\n",
      "  0%|          | 2/1083 [00:01<15:00,  1.20it/s]\u001b[A\n",
      "  0%|          | 3/1083 [00:02<15:42,  1.15it/s]\u001b[A\n",
      "  0%|          | 4/1083 [00:03<16:53,  1.06it/s]\u001b[A\n",
      "  0%|          | 5/1083 [00:04<16:34,  1.08it/s]\n",
      "100%|██████████| 1083/1083 [16:21<00:00,  1.02s/it]\n"
     ]
    }
   ],
   "source": [
    "new_games_proportional  = []\n",
    "\n",
    "for new_game in tqdm(new_games):\n",
    "    \n",
    "    raw_banzhaf = list(pw.banzhaf(new_game,quota_2017))\n",
    "    raw_shapley = list(pw.shapley(new_game,quota_2017))\n",
    "    raw_deegan_packel = list(pw.deegan_packel(new_game,quota_2017))\n",
    "    \n",
    "    if ((sorted(raw_banzhaf) == raw_banzhaf) \n",
    "        and (sorted(raw_shapley) == raw_shapley)\n",
    "        and (sorted(raw_deegan_packel) == raw_deegan_packel)):\n",
    "        \n",
    "        new_games_proportional.append(new_game)"
   ]
  },
  {
   "cell_type": "code",
   "execution_count": 92,
   "metadata": {
    "collapsed": false
   },
   "outputs": [
    {
     "name": "stdout",
     "output_type": "stream",
     "text": [
      "48 games found\n"
     ]
    }
   ],
   "source": [
    "print('{} games found'.format(len(new_games_proportional)))"
   ]
  },
  {
   "cell_type": "code",
   "execution_count": 93,
   "metadata": {
    "collapsed": false
   },
   "outputs": [
    {
     "data": {
      "text/plain": [
       "[(2, 2, 2, 2, 4, 4, 4, 6, 9, 9, 14, 14, 19, 23, 41),\n",
       " (2, 2, 2, 2, 4, 4, 4, 6, 9, 9, 16, 16, 18, 21, 40),\n",
       " (2, 2, 2, 2, 4, 4, 4, 6, 10, 10, 13, 13, 19, 21, 43),\n",
       " (2, 2, 2, 2, 4, 4, 4, 6, 10, 10, 14, 14, 17, 23, 41),\n",
       " (2, 2, 2, 2, 4, 4, 4, 6, 11, 11, 13, 13, 18, 22, 41),\n",
       " (2, 2, 2, 2, 4, 4, 4, 7, 9, 9, 14, 14, 19, 22, 41),\n",
       " (2, 2, 2, 2, 4, 4, 4, 7, 9, 9, 15, 15, 18, 21, 41),\n",
       " (2, 2, 2, 2, 4, 4, 4, 7, 10, 10, 13, 13, 18, 23, 41),\n",
       " (2, 2, 2, 2, 4, 4, 4, 7, 10, 10, 16, 16, 18, 20, 38),\n",
       " (2, 2, 2, 2, 4, 4, 4, 7, 11, 11, 13, 13, 16, 21, 43),\n",
       " (2, 2, 2, 2, 4, 4, 4, 8, 10, 10, 15, 15, 17, 21, 39),\n",
       " (2, 2, 2, 2, 4, 4, 4, 8, 10, 10, 15, 15, 18, 20, 39),\n",
       " (2, 2, 2, 2, 4, 4, 4, 8, 11, 11, 13, 13, 19, 21, 39),\n",
       " (2, 2, 2, 2, 4, 4, 4, 8, 11, 11, 14, 14, 16, 21, 40),\n",
       " (2, 2, 2, 2, 4, 4, 4, 9, 12, 12, 14, 14, 16, 20, 38),\n",
       " (2, 2, 2, 2, 4, 4, 4, 9, 12, 12, 14, 14, 17, 19, 38),\n",
       " (2, 2, 2, 2, 4, 4, 4, 10, 12, 12, 14, 14, 16, 19, 38),\n",
       " (2, 2, 2, 2, 5, 5, 5, 7, 9, 9, 11, 11, 20, 22, 43),\n",
       " (2, 2, 2, 2, 5, 5, 5, 7, 9, 9, 12, 12, 19, 23, 41),\n",
       " (2, 2, 2, 2, 5, 5, 5, 7, 12, 12, 14, 14, 16, 18, 39),\n",
       " (2, 2, 2, 2, 5, 5, 5, 8, 11, 11, 14, 14, 16, 18, 40),\n",
       " (2, 2, 2, 2, 5, 5, 5, 8, 12, 12, 14, 14, 16, 19, 37),\n",
       " (2, 2, 2, 2, 5, 5, 5, 9, 12, 12, 14, 14, 16, 18, 37),\n",
       " (2, 2, 2, 2, 6, 6, 6, 8, 10, 10, 13, 13, 16, 20, 39),\n",
       " (2, 2, 2, 2, 6, 6, 6, 8, 10, 10, 13, 13, 17, 20, 38),\n",
       " (2, 2, 2, 2, 6, 6, 6, 8, 10, 10, 14, 14, 16, 18, 39),\n",
       " (2, 2, 2, 2, 6, 6, 6, 8, 10, 10, 14, 14, 16, 19, 38),\n",
       " (2, 2, 2, 2, 6, 6, 6, 8, 10, 10, 14, 14, 17, 19, 37),\n",
       " (2, 2, 2, 2, 6, 6, 6, 8, 11, 11, 13, 13, 15, 20, 38),\n",
       " (2, 2, 2, 2, 6, 6, 6, 9, 11, 11, 14, 14, 16, 18, 36),\n",
       " (3, 3, 3, 3, 5, 5, 5, 7, 9, 9, 15, 15, 17, 19, 37),\n",
       " (3, 3, 3, 3, 5, 5, 5, 7, 10, 10, 12, 12, 17, 20, 40),\n",
       " (3, 3, 3, 3, 5, 5, 5, 7, 10, 10, 14, 14, 16, 18, 39),\n",
       " (3, 3, 3, 3, 5, 5, 5, 8, 10, 10, 12, 12, 15, 19, 42),\n",
       " (3, 3, 3, 3, 5, 5, 5, 8, 10, 10, 12, 12, 18, 20, 38),\n",
       " (3, 3, 3, 3, 5, 5, 5, 8, 10, 10, 13, 13, 16, 18, 40),\n",
       " (3, 3, 3, 3, 5, 5, 5, 8, 10, 10, 13, 13, 17, 19, 38),\n",
       " (3, 3, 3, 3, 5, 5, 5, 8, 10, 10, 14, 14, 16, 18, 38),\n",
       " (3, 3, 3, 3, 5, 5, 5, 8, 11, 11, 13, 13, 16, 18, 38),\n",
       " (3, 3, 3, 3, 5, 5, 5, 8, 11, 11, 14, 14, 16, 18, 36),\n",
       " (3, 3, 3, 3, 5, 5, 5, 9, 11, 11, 13, 13, 15, 18, 38),\n",
       " (3, 3, 3, 3, 6, 6, 6, 8, 10, 10, 12, 12, 15, 20, 38),\n",
       " (3, 3, 3, 3, 6, 6, 6, 8, 10, 10, 12, 12, 17, 19, 37),\n",
       " (3, 3, 3, 3, 6, 6, 6, 8, 10, 10, 13, 13, 15, 17, 39),\n",
       " (3, 3, 3, 3, 6, 6, 6, 8, 10, 10, 13, 13, 15, 19, 37),\n",
       " (3, 3, 3, 3, 6, 6, 6, 8, 11, 11, 13, 13, 15, 17, 37),\n",
       " (3, 3, 3, 3, 6, 6, 6, 8, 11, 11, 13, 13, 15, 18, 36),\n",
       " (4, 4, 4, 4, 6, 6, 6, 8, 10, 10, 12, 12, 15, 18, 36)]"
      ]
     },
     "execution_count": 93,
     "metadata": {},
     "output_type": "execute_result"
    }
   ],
   "source": [
    "new_games_proportional"
   ]
  }
 ],
 "metadata": {
  "kernelspec": {
   "display_name": "Python 3",
   "language": "python",
   "name": "python3"
  },
  "language_info": {
   "codemirror_mode": {
    "name": "ipython",
    "version": 3
   },
   "file_extension": ".py",
   "mimetype": "text/x-python",
   "name": "python",
   "nbconvert_exporter": "python",
   "pygments_lexer": "ipython3",
   "version": "3.4.3"
  }
 },
 "nbformat": 4,
 "nbformat_minor": 1
}
