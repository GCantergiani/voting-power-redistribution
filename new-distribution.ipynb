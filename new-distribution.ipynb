{
 "cells": [
  {
   "cell_type": "code",
   "execution_count": 23,
   "metadata": {
    "collapsed": true
   },
   "outputs": [],
   "source": [
    "import numpy as np\n",
    "import power_index_calculator as calculator\n",
    "\n",
    "from itertools import permutations\n",
    "from itertools import product\n",
    "from itertools import combinations_with_replacement"
   ]
  },
  {
   "cell_type": "code",
   "execution_count": 24,
   "metadata": {
    "collapsed": false
   },
   "outputs": [],
   "source": [
    "base_line = sorted(tuple([2,2,4,4,6,12,32,8,10,14,10,4,8,2,2]))"
   ]
  },
  {
   "cell_type": "code",
   "execution_count": 25,
   "metadata": {
    "collapsed": false
   },
   "outputs": [
    {
     "name": "stdout",
     "output_type": "stream",
     "text": [
      "Baseline standard deviation: 7.447594690010102\n"
     ]
    }
   ],
   "source": [
    "std_baseline = np.std(base_line)\n",
    "print('Baseline standard deviation: {}'.format(std_baseline))"
   ]
  },
  {
   "cell_type": "code",
   "execution_count": 26,
   "metadata": {
    "collapsed": false
   },
   "outputs": [],
   "source": [
    "weights_combinations = []\n",
    "\n",
    "for digits in combinations_with_replacement('0123456789', 15):\n",
    "    if sum(map(int, digits)) == 35:\n",
    "        weights_combinations.append(digits)"
   ]
  },
  {
   "cell_type": "markdown",
   "metadata": {},
   "source": [
    "### 1st constraint"
   ]
  },
  {
   "cell_type": "code",
   "execution_count": 42,
   "metadata": {
    "collapsed": false
   },
   "outputs": [],
   "source": [
    "filter_weights = []\n",
    "\n",
    "for w in weights_combinations:\n",
    "    if ((w[0] == w[1] == w[2] == w[3]) and (w[4] == w[5] == w[6])\n",
    "        and (w[8] == w[9]) and (w[10]==w[11])):\n",
    "        filter_weights.append(w)"
   ]
  },
  {
   "cell_type": "code",
   "execution_count": 43,
   "metadata": {
    "collapsed": false
   },
   "outputs": [
    {
     "name": "stdout",
     "output_type": "stream",
     "text": [
      "Number of generate weights: 396 \n"
     ]
    }
   ],
   "source": [
    "print('Number of generate weights: {} '.format(len(filter_weights)))"
   ]
  },
  {
   "cell_type": "markdown",
   "metadata": {},
   "source": [
    "### Working with power indices"
   ]
  },
  {
   "cell_type": "code",
   "execution_count": 44,
   "metadata": {
    "collapsed": false
   },
   "outputs": [],
   "source": [
    "import power_index_calculator as pw"
   ]
  },
  {
   "cell_type": "code",
   "execution_count": 45,
   "metadata": {
    "collapsed": false
   },
   "outputs": [],
   "source": [
    "game_2017 = [3,3,5,5,7,16,47,9,11,18,11,5,9,3,3]\n",
    "quota_2017 = 89"
   ]
  },
  {
   "cell_type": "code",
   "execution_count": 46,
   "metadata": {
    "collapsed": false
   },
   "outputs": [
    {
     "name": "stdout",
     "output_type": "stream",
     "text": [
      "Banzhaf: [0.017, 0.017, 0.028, 0.028, 0.039, 0.089, 0.396, 0.051, 0.062, 0.1, 0.062, 0.028, 0.051, 0.017, 0.017]\n",
      "Shapley: [0.016, 0.016, 0.028, 0.028, 0.039, 0.091, 0.393, 0.051, 0.062, 0.103, 0.062, 0.028, 0.051, 0.016, 0.016]\n",
      "Deegan Packel: [0.06, 0.06, 0.064, 0.064, 0.064, 0.059, 0.131, 0.065, 0.065, 0.056, 0.065, 0.064, 0.065, 0.06, 0.06]\n"
     ]
    }
   ],
   "source": [
    "banzhaf_2017 = list(pw.banzhaf(game_2017,quota_2017))\n",
    "shapley_2017 = list(pw.shapley(game_2017,quota_2017))\n",
    "deegan_packel_2017 = list(pw.deegan_packel(game_2017,quota_2017))\n",
    "\n",
    "print('Banzhaf: {}'.format(banzhaf_2017))\n",
    "print('Shapley: {}'.format(shapley_2017))\n",
    "print('Deegan Packel: {}'.format(deegan_packel_2017))"
   ]
  },
  {
   "cell_type": "code",
   "execution_count": 47,
   "metadata": {
    "collapsed": false
   },
   "outputs": [
    {
     "name": "stdout",
     "output_type": "stream",
     "text": [
      "STD Banzhaf 2017: 0.09155049608458347\n",
      "STD Shapley 2017: 0.09108945542097005\n",
      "STD Deegan Packel 2017: 0.017375077937475086\n"
     ]
    }
   ],
   "source": [
    "std_banzhaf_2017 = np.std(banzhaf_2017)\n",
    "std_shapley_2017 = np.std(shapley_2017)\n",
    "std_deegan_packel_2017 = np.std(deegan_packel_2017)\n",
    "\n",
    "print('STD Banzhaf 2017: {}'.format(std_banzhaf_2017))\n",
    "print('STD Shapley 2017: {}'.format(std_shapley_2017))\n",
    "print('STD Deegan Packel 2017: {}'.format(std_deegan_packel_2017))"
   ]
  },
  {
   "cell_type": "markdown",
   "metadata": {},
   "source": [
    "### 2st constraint"
   ]
  },
  {
   "cell_type": "code",
   "execution_count": 61,
   "metadata": {
    "collapsed": false
   },
   "outputs": [],
   "source": [
    "new_games  = []\n",
    "\n",
    "for w_add in filter_weights:\n",
    "    \n",
    "    to_add = tuple(map(int, w_add))\n",
    "    new_weights = tuple(map(sum,zip(to_add,base_line)))\n",
    "    \n",
    "    new_banzhaf_std = np.std(list(pw.banzhaf(game_2017,quota_2017)))\n",
    "    new_shapley_std = np.std(list(pw.shapley(game_2017,quota_2017)))\n",
    "    new_deegan_packel_std = np.std(list(pw.deegan_packel(game_2017,quota_2017)))\n",
    "    \n",
    "    if ((new_weights[14] <= 47) \n",
    "        and (new_banzhaf_std < std_banzhaf_2017)\n",
    "        and (new_shapley_std < std_shapley_2017)\n",
    "        and (new_deegan_packel_std < std_deegan_packel_2017)):\n",
    "            \n",
    "        new_games.append(new_weights)"
   ]
  },
  {
   "cell_type": "code",
   "execution_count": 62,
   "metadata": {
    "collapsed": false
   },
   "outputs": [
    {
     "name": "stdout",
     "output_type": "stream",
     "text": [
      "0 games found\n"
     ]
    }
   ],
   "source": [
    "print('{} games found'.format(len(new_games)))"
   ]
  },
  {
   "cell_type": "code",
   "execution_count": 64,
   "metadata": {
    "collapsed": true
   },
   "outputs": [],
   "source": [
    "THRESHOLD = 0.01"
   ]
  },
  {
   "cell_type": "code",
   "execution_count": 65,
   "metadata": {
    "collapsed": false
   },
   "outputs": [],
   "source": [
    "new_games  = []\n",
    "\n",
    "for w_add in filter_weights:\n",
    "    \n",
    "    to_add = tuple(map(int, w_add))\n",
    "    new_weights = tuple(map(sum,zip(to_add,base_line)))\n",
    "    \n",
    "    new_banzhaf_std = np.std(list(pw.banzhaf(game_2017,quota_2017)))\n",
    "    new_shapley_std = np.std(list(pw.shapley(game_2017,quota_2017)))\n",
    "    new_deegan_packel_std = np.std(list(pw.deegan_packel(game_2017,quota_2017)))\n",
    "    \n",
    "    if ((new_weights[14] <= 47) \n",
    "        and (new_banzhaf_std < std_banzhaf_2017 + THRESHOLD)\n",
    "        and (new_shapley_std < std_shapley_2017 + THRESHOLD)\n",
    "        and (new_deegan_packel_std < std_deegan_packel_2017 + THRESHOLD)):\n",
    "        new_games.append(new_weights)\n"
   ]
  },
  {
   "cell_type": "code",
   "execution_count": 66,
   "metadata": {
    "collapsed": false
   },
   "outputs": [
    {
     "name": "stdout",
     "output_type": "stream",
     "text": [
      "396 games found\n"
     ]
    }
   ],
   "source": [
    "print('{} games found'.format(len(new_games)))"
   ]
  }
 ],
 "metadata": {
  "kernelspec": {
   "display_name": "Python 3",
   "language": "python",
   "name": "python3"
  },
  "language_info": {
   "codemirror_mode": {
    "name": "ipython",
    "version": 3
   },
   "file_extension": ".py",
   "mimetype": "text/x-python",
   "name": "python",
   "nbconvert_exporter": "python",
   "pygments_lexer": "ipython3",
   "version": "3.4.3"
  }
 },
 "nbformat": 4,
 "nbformat_minor": 1
}
